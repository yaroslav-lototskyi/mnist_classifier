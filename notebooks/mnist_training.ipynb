{
 "cells": [
  {
   "cell_type": "code",
   "execution_count": null,
   "metadata": {
    "vscode": {
     "languageId": "plaintext"
    }
   },
   "outputs": [],
   "source": [
    "from google.colab import drive\n",
    "drive.mount('/content/drive')\n",
    "\n",
    "!git clone https://github.com/yourusername/your-repo-name.git\n",
    "%cd your-repo-name\n",
    "\n",
    "!pip install -r requirements.txt\n",
    "\n",
    "!python scripts/train_model.py\n",
    "\n",
    "!ls -lh model.pth\n"
   ]
  }
 ],
 "metadata": {
  "language_info": {
   "name": "python"
  }
 },
 "nbformat": 4,
 "nbformat_minor": 2
}
